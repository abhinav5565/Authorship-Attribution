{
  "nbformat": 4,
  "nbformat_minor": 0,
  "metadata": {
    "colab": {
      "name": "Final_AA_prsg_demo.ipynb",
      "provenance": [],
      "collapsed_sections": []
    },
    "kernelspec": {
      "name": "python3",
      "display_name": "Python 3"
    }
  },
  "cells": [
    {
      "cell_type": "code",
      "metadata": {
        "colab": {
          "base_uri": "https://localhost:8080/"
        },
        "id": "IHaRoWVuZOOQ",
        "outputId": "9f0bcc8d-5c78-4bbe-c0c7-a9199e50f8d5"
      },
      "source": [
        "!pip install flask-ngrok"
      ],
      "execution_count": null,
      "outputs": [
        {
          "output_type": "stream",
          "text": [
            "Collecting flask-ngrok\n",
            "  Downloading https://files.pythonhosted.org/packages/af/6c/f54cb686ad1129e27d125d182f90f52b32f284e6c8df58c1bae54fa1adbc/flask_ngrok-0.0.25-py3-none-any.whl\n",
            "Requirement already satisfied: requests in /usr/local/lib/python3.7/dist-packages (from flask-ngrok) (2.23.0)\n",
            "Requirement already satisfied: Flask>=0.8 in /usr/local/lib/python3.7/dist-packages (from flask-ngrok) (1.1.2)\n",
            "Requirement already satisfied: idna<3,>=2.5 in /usr/local/lib/python3.7/dist-packages (from requests->flask-ngrok) (2.10)\n",
            "Requirement already satisfied: urllib3!=1.25.0,!=1.25.1,<1.26,>=1.21.1 in /usr/local/lib/python3.7/dist-packages (from requests->flask-ngrok) (1.24.3)\n",
            "Requirement already satisfied: chardet<4,>=3.0.2 in /usr/local/lib/python3.7/dist-packages (from requests->flask-ngrok) (3.0.4)\n",
            "Requirement already satisfied: certifi>=2017.4.17 in /usr/local/lib/python3.7/dist-packages (from requests->flask-ngrok) (2020.12.5)\n",
            "Requirement already satisfied: Jinja2>=2.10.1 in /usr/local/lib/python3.7/dist-packages (from Flask>=0.8->flask-ngrok) (2.11.3)\n",
            "Requirement already satisfied: itsdangerous>=0.24 in /usr/local/lib/python3.7/dist-packages (from Flask>=0.8->flask-ngrok) (1.1.0)\n",
            "Requirement already satisfied: click>=5.1 in /usr/local/lib/python3.7/dist-packages (from Flask>=0.8->flask-ngrok) (7.1.2)\n",
            "Requirement already satisfied: Werkzeug>=0.15 in /usr/local/lib/python3.7/dist-packages (from Flask>=0.8->flask-ngrok) (1.0.1)\n",
            "Requirement already satisfied: MarkupSafe>=0.23 in /usr/local/lib/python3.7/dist-packages (from Jinja2>=2.10.1->Flask>=0.8->flask-ngrok) (1.1.1)\n",
            "Installing collected packages: flask-ngrok\n",
            "Successfully installed flask-ngrok-0.0.25\n"
          ],
          "name": "stdout"
        }
      ]
    },
    {
      "cell_type": "code",
      "metadata": {
        "colab": {
          "base_uri": "https://localhost:8080/"
        },
        "id": "GrJ3OCE8Q1qh",
        "outputId": "62ccfa1c-36b5-4147-a85e-71c8338051fb"
      },
      "source": [
        "from google.colab import drive\n",
        "drive.mount('/content/drive')"
      ],
      "execution_count": null,
      "outputs": [
        {
          "output_type": "stream",
          "text": [
            "Mounted at /content/drive\n"
          ],
          "name": "stdout"
        }
      ]
    },
    {
      "cell_type": "code",
      "metadata": {
        "id": "5wvAbibTbKst",
        "colab": {
          "base_uri": "https://localhost:8080/"
        },
        "outputId": "8e110ca2-baaf-402d-f9c7-ed47cc8d4e69"
      },
      "source": [
        "cd /content/drive/MyDrive/Demo-PRSG"
      ],
      "execution_count": null,
      "outputs": [
        {
          "output_type": "stream",
          "text": [
            "/content/drive/MyDrive/Demo-PRSG\n"
          ],
          "name": "stdout"
        }
      ]
    },
    {
      "cell_type": "code",
      "metadata": {
        "colab": {
          "base_uri": "https://localhost:8080/"
        },
        "id": "emuGBaTqZHrl",
        "outputId": "ca54ff8d-e21f-4169-b898-5554f82b4d13"
      },
      "source": [
        "#from flask import Flask \n",
        "\n",
        "#app = Flask(__name__) \n",
        "\n",
        "\n",
        "\n",
        "from flask import Flask, render_template, request\n",
        "from flask_ngrok import run_with_ngrok \n",
        "from sklearn.externals import joblib\n",
        "import pandas as pd\n",
        "import numpy as np\n",
        "app=Flask(__name__)\n",
        "run_with_ngrok(app) \n",
        "'''\n",
        "@app.route('/test')\n",
        "\n",
        "\n",
        "def test():\n",
        "    return \"Flask is being used for development\"\n",
        "'''\n",
        "\n",
        "#load model_prediction\n",
        "#We can load model here such that it will not be loaded again if the page refreshes, iproves the performance\n",
        "from tensorflow.keras.models import load_model\n",
        "import string\n",
        "import pandas as pd\n",
        "import numpy as np\n",
        "\n",
        "model = load_model('/content/drive/MyDrive/Demo-PRSG/30_real_user_weight.h5')\n",
        "from sklearn.preprocessing import LabelEncoder\n",
        "encoder = LabelEncoder()\n",
        "encoder.classes_ = np.load('/content/drive/MyDrive/Demo-PRSG/classes.npy',allow_pickle=True)\n",
        "\n",
        "def create_vocab_set():\n",
        "    alphabet = (list(string.ascii_lowercase) + list(string.digits) +\n",
        "                list(string.punctuation) + ['\\n'] + [' '] )\n",
        "    vocab_size = len(alphabet)\n",
        "    check = set(alphabet)\n",
        "\n",
        "    vocab = {}\n",
        "    reverse_vocab = {}\n",
        "    for ix, t in enumerate(alphabet):\n",
        "        vocab[t] = ix\n",
        "        reverse_vocab[ix] = t\n",
        "\n",
        "    return vocab, reverse_vocab, vocab_size, check\n",
        "\n",
        "maxlen = 140\n",
        "vocab, reverse_vocab, vocab_size, check =create_vocab_set()\n",
        "\n",
        "def encode_data(x, maxlen, vocab, vocab_size, check):\n",
        "\n",
        "    input_data = np.zeros((len(x), maxlen, vocab_size))\n",
        "    for dix, sent in enumerate(x):\n",
        "        counter = 0\n",
        "        sent_array = np.zeros((maxlen, vocab_size))\n",
        "        chars = list(sent.lower())\n",
        "        for c in chars:\n",
        "            if counter >= maxlen:\n",
        "                pass\n",
        "            else:\n",
        "                char_array = np.zeros(vocab_size, dtype=np.int)\n",
        "                if c in check:\n",
        "                    ix = vocab[c]\n",
        "                    char_array[ix] = 1\n",
        "                sent_array[counter, :] = char_array\n",
        "                counter += 1\n",
        "        input_data[dix, :, :] = sent_array\n",
        "\n",
        "    return input_data\n",
        "\n",
        "\n",
        "@app.route('/')\n",
        "\n",
        "\n",
        "def home():\n",
        "    return render_template('Home_AA_new.html')\n",
        "\n",
        "@app.route(\"/predict\",methods=['GET','POST'])\n",
        "\n",
        "\n",
        "def predict():\n",
        "    if request.method == 'POST':\n",
        "        try:\n",
        "            text=(request.form['text'])\n",
        "            type_here=[]\n",
        "            type_here.append(text)\n",
        "            typr_here=pd.DataFrame(type_here)\n",
        "            typr_here = encode_data(type_here, maxlen, vocab, vocab_size, check)\n",
        "            y_pred = model.predict(typr_here)\n",
        "            y_pred=pd.DataFrame(y_pred)\n",
        "            y_pred=y_pred.eq(y_pred.where(y_pred != 0).max(1), axis=0).astype(int)\n",
        "            y_pred=y_pred.iloc[:,:].values\n",
        "            result=[]\n",
        "            for i in range(0,len(y_pred)):\n",
        "                for j in range(0,len(y_pred[0])):\n",
        "                    if(y_pred[i][j]==1):\n",
        "                        result.append(j)\n",
        "            author=encoder.inverse_transform(result)\n",
        "        except valueError:\n",
        "            return \"please Check if the values are entered correctly\"\n",
        "    return render_template('predict_AA_new.html', prediction=author[0])\n",
        "\n",
        "if __name__==\"__main__\":\n",
        "    app.run()\n",
        "\n",
        "\n",
        "#@app.route(\"/\") \n",
        "#def home(): \n",
        "#\treturn \"<h1>GFG is great platform to learn</h1>\"\n",
        "\t\n",
        "#app.run()\n"
      ],
      "execution_count": null,
      "outputs": [
        {
          "output_type": "stream",
          "text": [
            " * Serving Flask app \"__main__\" (lazy loading)\n",
            " * Environment: production\n",
            "\u001b[31m   WARNING: This is a development server. Do not use it in a production deployment.\u001b[0m\n",
            "\u001b[2m   Use a production WSGI server instead.\u001b[0m\n",
            " * Debug mode: off\n"
          ],
          "name": "stdout"
        },
        {
          "output_type": "stream",
          "text": [
            " * Running on http://127.0.0.1:5000/ (Press CTRL+C to quit)\n"
          ],
          "name": "stderr"
        },
        {
          "output_type": "stream",
          "text": [
            " * Running on http://d93d9db17cb0.ngrok.io\n",
            " * Traffic stats available on http://127.0.0.1:4040\n"
          ],
          "name": "stdout"
        },
        {
          "output_type": "stream",
          "text": [
            "127.0.0.1 - - [07/Mar/2021 16:02:51] \"\u001b[37mGET / HTTP/1.1\u001b[0m\" 200 -\n",
            "127.0.0.1 - - [07/Mar/2021 16:02:52] \"\u001b[33mGET /favicon.ico HTTP/1.1\u001b[0m\" 404 -\n",
            "127.0.0.1 - - [07/Mar/2021 16:16:02] \"\u001b[37mGET / HTTP/1.1\u001b[0m\" 200 -\n",
            "127.0.0.1 - - [07/Mar/2021 16:16:03] \"\u001b[33mGET /favicon.ico HTTP/1.1\u001b[0m\" 404 -\n",
            "127.0.0.1 - - [07/Mar/2021 16:16:21] \"\u001b[37mPOST /predict HTTP/1.1\u001b[0m\" 200 -\n",
            "127.0.0.1 - - [07/Mar/2021 16:21:53] \"\u001b[37mPOST /predict HTTP/1.1\u001b[0m\" 200 -\n",
            "127.0.0.1 - - [07/Mar/2021 16:21:53] \"\u001b[33mGET /favicon.ico HTTP/1.1\u001b[0m\" 404 -\n"
          ],
          "name": "stderr"
        }
      ]
    },
    {
      "cell_type": "code",
      "metadata": {
        "id": "ocIGaP0TcDpO",
        "colab": {
          "base_uri": "https://localhost:8080/"
        },
        "outputId": "cb43dc71-f2d3-4708-f82f-fd8bf137422d"
      },
      "source": [
        "\n",
        "\n",
        "from flask import Flask, render_template, request\n",
        "from flask_ngrok import run_with_ngrok \n",
        "from sklearn.externals import joblib\n",
        "import pandas as pd\n",
        "import numpy as np\n",
        "app=Flask(__name__)\n",
        "run_with_ngrok(app) \n",
        "'''\n",
        "@app.route('/test')\n",
        "\n",
        "\n",
        "def test():\n",
        "    return \"Flask is being used for development\"\n",
        "'''\n",
        "\n",
        "#load model_prediction\n",
        "#We can load model here such that it will not be loaded again if the page refreshes, iproves the performance\n",
        "from tensorflow.keras.models import load_model\n",
        "import string\n",
        "import pandas as pd\n",
        "import numpy as np\n",
        "\n",
        "model = load_model('/content/drive/MyDrive/Demo-PRSG/30_real_user_weight.h5')\n",
        "from sklearn.preprocessing import LabelEncoder\n",
        "encoder = LabelEncoder()\n",
        "encoder.classes_ = np.load('/content/drive/MyDrive/Demo-PRSG/classes.npy',allow_pickle=True)\n",
        "\n",
        "def create_vocab_set():\n",
        "    alphabet = (list(string.ascii_lowercase) + list(string.digits) +\n",
        "                list(string.punctuation) + ['\\n'] + [' '] )\n",
        "    vocab_size = len(alphabet)\n",
        "    check = set(alphabet)\n",
        "\n",
        "    vocab = {}\n",
        "    reverse_vocab = {}\n",
        "    for ix, t in enumerate(alphabet):\n",
        "        vocab[t] = ix\n",
        "        reverse_vocab[ix] = t\n",
        "\n",
        "    return vocab, reverse_vocab, vocab_size, check\n",
        "\n",
        "maxlen = 140\n",
        "vocab, reverse_vocab, vocab_size, check =create_vocab_set()\n",
        "\n",
        "def encode_data(x, maxlen, vocab, vocab_size, check):\n",
        "\n",
        "    input_data = np.zeros((len(x), maxlen, vocab_size))\n",
        "    for dix, sent in enumerate(x):\n",
        "        counter = 0\n",
        "        sent_array = np.zeros((maxlen, vocab_size))\n",
        "        chars = list(sent.lower())\n",
        "        for c in chars:\n",
        "            if counter >= maxlen:\n",
        "                pass\n",
        "            else:\n",
        "                char_array = np.zeros(vocab_size, dtype=np.int)\n",
        "                if c in check:\n",
        "                    ix = vocab[c]\n",
        "                    char_array[ix] = 1\n",
        "                sent_array[counter, :] = char_array\n",
        "                counter += 1\n",
        "        input_data[dix, :, :] = sent_array\n",
        "\n",
        "    return input_data\n",
        "\n",
        "\n",
        "@app.route('/')\n",
        "\n",
        "\n",
        "def home():\n",
        "    return render_template('home.html')\n",
        "\n",
        "@app.route(\"/predict\",methods=['GET','POST'])\n",
        "\n",
        "\n",
        "def predict():\n",
        "    if request.method == 'POST':\n",
        "        try:\n",
        "            text=(request.form['text'])\n",
        "            type_here=[]\n",
        "            type_here.append(text)\n",
        "            typr_here=pd.DataFrame(type_here)\n",
        "            typr_here = encode_data(type_here, maxlen, vocab, vocab_size, check)\n",
        "            y_pred = model.predict(typr_here)\n",
        "            y_pred=pd.DataFrame(y_pred)\n",
        "            y_pred=y_pred.eq(y_pred.where(y_pred != 0).max(1), axis=0).astype(int)\n",
        "            y_pred=y_pred.iloc[:,:].values\n",
        "            result=[]\n",
        "            for i in range(0,len(y_pred)):\n",
        "                for j in range(0,len(y_pred[0])):\n",
        "                    if(y_pred[i][j]==1):\n",
        "                        result.append(j)\n",
        "            author=encoder.inverse_transform(result)\n",
        "        except valueError:\n",
        "            return \"please Check if the values are entered correctly\"\n",
        "    return render_template('predict.html', prediction=author[0])\n",
        "\n",
        "if __name__==\"__main__\":\n",
        "    app.run()\n",
        "\n",
        "\n",
        "#@app.route(\"/\") \n",
        "#def home(): \n",
        "#\treturn \"<h1>GFG is great platform to learn</h1>\"\n",
        "\t\n",
        "#app.run()"
      ],
      "execution_count": null,
      "outputs": [
        {
          "output_type": "stream",
          "text": [
            " * Serving Flask app \"__main__\" (lazy loading)\n",
            " * Environment: production\n",
            "\u001b[31m   WARNING: This is a development server. Do not use it in a production deployment.\u001b[0m\n",
            "\u001b[2m   Use a production WSGI server instead.\u001b[0m\n",
            " * Debug mode: off\n"
          ],
          "name": "stdout"
        },
        {
          "output_type": "stream",
          "text": [
            " * Running on http://127.0.0.1:5000/ (Press CTRL+C to quit)\n"
          ],
          "name": "stderr"
        },
        {
          "output_type": "stream",
          "text": [
            " * Running on http://59d55af786b3.ngrok.io\n",
            " * Traffic stats available on http://127.0.0.1:4040\n"
          ],
          "name": "stdout"
        },
        {
          "output_type": "stream",
          "text": [
            "[2021-02-19 05:14:55,407] ERROR in app: Exception on / [GET]\n",
            "Traceback (most recent call last):\n",
            "  File \"/usr/local/lib/python3.6/dist-packages/flask/app.py\", line 2447, in wsgi_app\n",
            "    response = self.full_dispatch_request()\n",
            "  File \"/usr/local/lib/python3.6/dist-packages/flask/app.py\", line 1952, in full_dispatch_request\n",
            "    rv = self.handle_user_exception(e)\n",
            "  File \"/usr/local/lib/python3.6/dist-packages/flask/app.py\", line 1821, in handle_user_exception\n",
            "    reraise(exc_type, exc_value, tb)\n",
            "  File \"/usr/local/lib/python3.6/dist-packages/flask/_compat.py\", line 39, in reraise\n",
            "    raise value\n",
            "  File \"/usr/local/lib/python3.6/dist-packages/flask/app.py\", line 1950, in full_dispatch_request\n",
            "    rv = self.dispatch_request()\n",
            "  File \"/usr/local/lib/python3.6/dist-packages/flask/app.py\", line 1936, in dispatch_request\n",
            "    return self.view_functions[rule.endpoint](**req.view_args)\n",
            "  File \"<ipython-input-4-e24ad6a35d14>\", line 73, in home\n",
            "    return render_template('home.html')\n",
            "  File \"/usr/local/lib/python3.6/dist-packages/flask/templating.py\", line 138, in render_template\n",
            "    ctx.app.jinja_env.get_or_select_template(template_name_or_list),\n",
            "  File \"/usr/local/lib/python3.6/dist-packages/jinja2/environment.py\", line 930, in get_or_select_template\n",
            "    return self.get_template(template_name_or_list, parent, globals)\n",
            "  File \"/usr/local/lib/python3.6/dist-packages/jinja2/environment.py\", line 883, in get_template\n",
            "    return self._load_template(name, self.make_globals(globals))\n",
            "  File \"/usr/local/lib/python3.6/dist-packages/jinja2/environment.py\", line 857, in _load_template\n",
            "    template = self.loader.load(self, name, globals)\n",
            "  File \"/usr/local/lib/python3.6/dist-packages/jinja2/loaders.py\", line 115, in load\n",
            "    source, filename, uptodate = self.get_source(environment, name)\n",
            "  File \"/usr/local/lib/python3.6/dist-packages/flask/templating.py\", line 60, in get_source\n",
            "    return self._get_source_fast(environment, template)\n",
            "  File \"/usr/local/lib/python3.6/dist-packages/flask/templating.py\", line 89, in _get_source_fast\n",
            "    raise TemplateNotFound(template)\n",
            "jinja2.exceptions.TemplateNotFound: home.html\n",
            "127.0.0.1 - - [19/Feb/2021 05:14:55] \"\u001b[35m\u001b[1mGET / HTTP/1.1\u001b[0m\" 500 -\n",
            "127.0.0.1 - - [19/Feb/2021 05:14:55] \"\u001b[33mGET /favicon.ico HTTP/1.1\u001b[0m\" 404 -\n"
          ],
          "name": "stderr"
        }
      ]
    }
  ]
}